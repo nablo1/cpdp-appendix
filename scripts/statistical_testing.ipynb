{
 "cells": [
  {
   "cell_type": "markdown",
   "id": "a8eea50e",
   "metadata": {},
   "source": [
    "### Import required modules"
   ]
  },
  {
   "cell_type": "code",
   "execution_count": 160,
   "id": "2844e4d0",
   "metadata": {},
   "outputs": [],
   "source": [
    "from scipy.stats import mannwhitneyu\n",
    "import itertools\n",
    "import pandas as pd\n",
    "import matplotlib.pyplot as plt\n",
    "from pylab import *\n",
    "import statistics\n",
    "import csv"
   ]
  },
  {
   "cell_type": "code",
   "execution_count": 189,
   "id": "b4d808dc",
   "metadata": {},
   "outputs": [],
   "source": [
    "folder = '../results/DT/' # DIRECTORY FROM WHICH DATA IS RETRIEVED AND TO WHICH NEW DATA IS SAVED"
   ]
  },
  {
   "cell_type": "code",
   "execution_count": 190,
   "id": "900e4c99",
   "metadata": {},
   "outputs": [],
   "source": [
    "with open(folder+'statistical_pvalues.csv', 'w', newline='') as f:\n",
    "        writer = csv.writer(f)\n",
    "        writer.writerow(['Group1', 'Group2', 'P-vlaue'])"
   ]
  },
  {
   "cell_type": "code",
   "execution_count": 191,
   "id": "cbfb0b8b",
   "metadata": {},
   "outputs": [],
   "source": [
    "with open(folder+'mean_values.csv', 'w', newline='') as f:\n",
    "        writer = csv.writer(f)\n",
    "        writer.writerow(['Group', 'Mean-value'])"
   ]
  },
  {
   "cell_type": "markdown",
   "id": "872c9d67",
   "metadata": {},
   "source": [
    "# Tests for projects predictions (results fot RQ1)"
   ]
  },
  {
   "cell_type": "markdown",
   "id": "74bd885e",
   "metadata": {},
   "source": [
    "### Data pre-processing"
   ]
  },
  {
   "cell_type": "code",
   "execution_count": 192,
   "id": "d9fa8302",
   "metadata": {},
   "outputs": [],
   "source": [
    "# Get the results csv file and convert it to a dataframe\n",
    "data = folder+'projects_accuracy_results.csv'\n",
    "data_df = pd.read_csv(data, sep=',')\n",
    "\n",
    "# Create a new dataframes for each size and domain group\n",
    "big_df = data_df[data_df['Predictor'].str.contains(\"BB|LB|UB|MB\", regex=True)]\n",
    "small_df = data_df[data_df['Predictor'].str.contains(\"BS|LS|US|MS\", regex=True)]\n",
    "business_df = data_df[data_df['Predictor'].str.contains(\"BB|BS\", regex=True)]\n",
    "library_df = data_df[data_df['Predictor'].str.contains(\"LB|LS\", regex=True)]\n",
    "utility_df = data_df[data_df['Predictor'].str.contains(\"UB|US\", regex=True)]\n",
    "multimedia_df = data_df[data_df['Predictor'].str.contains(\"MB|MS\", regex=True)]\n",
    "\n",
    "# Get the accuracy column of each dataframe\n",
    "big_acc = big_df[['Accuracy']]\n",
    "small_acc = small_df[['Accuracy']]\n",
    "business_acc = business_df[['Accuracy']]\n",
    "library_acc = library_df[['Accuracy']]\n",
    "utility_acc = utility_df[['Accuracy']]\n",
    "multimedia_acc = multimedia_df[['Accuracy']]\n",
    "\n",
    "# Convert the accuracy values into NumPy arrays, then into lists\n",
    "big_arr = np.array(big_acc, dtype = 'float32').ravel()\n",
    "small_arr = np.array(small_acc, dtype = 'float32').ravel()\n",
    "business_arr = np.array(business_acc, dtype = 'float32').ravel()\n",
    "library_arr = np.array(library_acc, dtype = 'float32').ravel()\n",
    "utility_arr = np.array(utility_acc, dtype = 'float32').ravel()\n",
    "multimedia_arr = np.array(multimedia_acc, dtype = 'float32').ravel()\n",
    "\n",
    "# Final lists to be tested\n",
    "big = big_arr.tolist()\n",
    "small = small_arr.tolist()\n",
    "business = business_arr.tolist()\n",
    "library = library_arr.tolist()\n",
    "utility = utility_arr.tolist()\n",
    "multimedia = multimedia_arr.tolist()\n",
    "\n",
    "# Convert each list to dataframe for plotting purposes\n",
    "big_plot = pd.DataFrame(big)\n",
    "small_plot = pd.DataFrame(small)\n",
    "business_plot = pd.DataFrame(business)\n",
    "library_plot = pd.DataFrame(library)\n",
    "utility_plot = pd.DataFrame(utility)\n",
    "multimedia_plot = pd.DataFrame(multimedia)"
   ]
  },
  {
   "cell_type": "markdown",
   "id": "e6c85b2c",
   "metadata": {},
   "source": [
    "### Save mean values for size and domain groups"
   ]
  },
  {
   "cell_type": "code",
   "execution_count": 193,
   "id": "5edfcb83",
   "metadata": {},
   "outputs": [
    {
     "name": "stdout",
     "output_type": "stream",
     "text": [
      "Successfully saved the mean values of the groups\n"
     ]
    }
   ],
   "source": [
    "with open(folder+'mean_values.csv', 'a', newline='') as f:\n",
    "            writer = csv.writer(f)\n",
    "            writer.writerow(['Big', statistics.mean(big)])\n",
    "            writer.writerow(['Small', statistics.mean(small)])\n",
    "            writer.writerow(['Business', statistics.mean(business)])\n",
    "            writer.writerow(['Library', statistics.mean(library)])\n",
    "            writer.writerow(['Utility', statistics.mean(utility)])\n",
    "            writer.writerow(['Multimedia', statistics.mean(multimedia)])  \n",
    "            \n",
    "print(\"Successfully saved the mean values of the groups\")"
   ]
  },
  {
   "cell_type": "markdown",
   "id": "194d1794",
   "metadata": {},
   "source": [
    "### Perform Mann-Whitney U test between the Big and Small lists"
   ]
  },
  {
   "cell_type": "code",
   "execution_count": 194,
   "id": "45227119",
   "metadata": {},
   "outputs": [
    {
     "name": "stdout",
     "output_type": "stream",
     "text": [
      "Successfully performed the test and saved the result\n"
     ]
    }
   ],
   "source": [
    "result = mannwhitneyu(big, small)\n",
    "with open(folder+'statistical_pvalues.csv', 'a', newline='') as f:\n",
    "            writer = csv.writer(f)\n",
    "            writer.writerow(['Big', 'Small', result.pvalue])\n",
    "            \n",
    "print(\"Successfully performed the test and saved the result\")"
   ]
  },
  {
   "cell_type": "markdown",
   "id": "b8770901",
   "metadata": {},
   "source": [
    "### Plot the results for the Big Vs Small data comparison"
   ]
  },
  {
   "cell_type": "code",
   "execution_count": 195,
   "id": "6c279d74",
   "metadata": {},
   "outputs": [
    {
     "data": {
      "image/png": "[encoded data removed]",
      "text/plain": [
       "<Figure size 432x288 with 1 Axes>"
      ]
     },
     "metadata": {
      "needs_background": "light"
     },
     "output_type": "display_data"
    }
   ],
   "source": [
    "big_vs_small = big_plot.join(small_plot, lsuffix='big', rsuffix='small')\n",
    "big_vs_small.boxplot(column=['0big', '0small'], grid=False, showfliers=False)\n",
    "plt.savefig(folder+'plots/big_vs_small.png')"
   ]
  },
  {
   "cell_type": "markdown",
   "id": "523f543b",
   "metadata": {},
   "source": [
    "### Perform Mann-Whitney U test for all possible pair combinations among domains lists"
   ]
  },
  {
   "cell_type": "code",
   "execution_count": 196,
   "id": "1675dda4",
   "metadata": {},
   "outputs": [
    {
     "name": "stdout",
     "output_type": "stream",
     "text": [
      "Successfully performed the tests and saved the results\n"
     ]
    }
   ],
   "source": [
    "domains = [business, library, utility, multimedia] # Include all lists in this parent list to iterate through it\n",
    "domains_names = [\"Business\", \"Library\", \"Utility\", \"Multimedia\"] # List of strings that holds the names. MUST BE IN THE SAME ORDER\n",
    "domains_plots = [business_plot, library_plot, utility_plot, multimedia_plot] # Include all dataframes in this list. MUST BE IN THE SAME ORDER\n",
    "\n",
    "nr_domains = []\n",
    "for i in range(len(domains)):\n",
    "    nr_domains.append(i) \n",
    "    \n",
    "pairs = list(itertools.combinations(nr_domains, 2))\n",
    "for i in range(len(pairs)):\n",
    "    result = mannwhitneyu(domains[pairs[i][0]], domains[pairs[i][1]]) \n",
    "    with open(folder+'statistical_pvalues.csv', 'a', newline='') as f:\n",
    "            writer = csv.writer(f)\n",
    "            writer.writerow([domains_names[pairs[i][0]], domains_names[pairs[i][1]], result.pvalue])\n",
    "            \n",
    "print(\"Successfully performed the tests and saved the results\")"
   ]
  },
  {
   "cell_type": "markdown",
   "id": "ba40d2a3",
   "metadata": {},
   "source": [
    "### Plot the results for all possible pair combinations among domains data"
   ]
  },
  {
   "cell_type": "code",
   "execution_count": 197,
   "id": "3838a963",
   "metadata": {},
   "outputs": [],
   "source": [
    "for i in range(len(pairs)):\n",
    "    combined_df = domains_plots[pairs[i][0]].join(domains_plots[pairs[i][1]], lsuffix=domains_names[pairs[i][0]], rsuffix=domains_names[pairs[i][1]])\n",
    "    pb = combined_df.boxplot(column=['0' + domains_names[pairs[i][0]], '0' + domains_names[pairs[i][1]]], grid=False, showfliers=False)\n",
    "    pb.set_ylabel('Prediction accuracy')\n",
    "    plt.savefig(folder+'plots/'+domains_names[pairs[i][0]]+'_vs_'+domains_names[pairs[i][1]]+'.png')\n",
    "    plt.close()"
   ]
  },
  {
   "cell_type": "markdown",
   "id": "9bc68b77",
   "metadata": {},
   "source": [
    "# Tests for combinations predictions (results for RQ2)"
   ]
  },
  {
   "cell_type": "markdown",
   "id": "80111a02",
   "metadata": {},
   "source": [
    "### Data pre-processing"
   ]
  },
  {
   "cell_type": "code",
   "execution_count": 198,
   "id": "e9ed76a1",
   "metadata": {},
   "outputs": [],
   "source": [
    "diversity_data = folder+'combinations_accuracy_results.csv'\n",
    "diversity_df = pd.read_csv(diversity_data, sep=',')\n",
    "\n",
    "diverse_df = diversity_df[diversity_df['Predictor'].str.contains(\"1|2|3|4|5|6|7|8\", regex=True)]\n",
    "nondiverse_df = diversity_df[diversity_df['Predictor'].str.contains(\"nondiverse\", regex=True)]\n",
    "\n",
    "\n",
    "diverse_acc = diverse_df[['Accuracy']]\n",
    "nondiverse_acc = nondiverse_df[['Accuracy']]\n",
    "\n",
    "diverse_arr = np.array(diverse_acc, dtype = 'float32').ravel()\n",
    "nordiverse_arr = np.array(nondiverse_acc, dtype = 'float32').ravel()\n",
    "\n",
    "diverse = diverse_arr.tolist()\n",
    "nondiverse = nordiverse_arr.tolist()"
   ]
  },
  {
   "cell_type": "markdown",
   "id": "9ee50ac2",
   "metadata": {},
   "source": [
    "### Save the mean values of the groups"
   ]
  },
  {
   "cell_type": "code",
   "execution_count": 199,
   "id": "80ff5069",
   "metadata": {
    "scrolled": true
   },
   "outputs": [
    {
     "name": "stdout",
     "output_type": "stream",
     "text": [
      "Successfully saved the mean values of the groups\n"
     ]
    }
   ],
   "source": [
    "with open(folder+'mean_values.csv', 'a', newline='') as f:\n",
    "            writer = csv.writer(f)\n",
    "            writer.writerow(['Diverse', statistics.mean(diverse)])\n",
    "            writer.writerow(['Non-diverse', statistics.mean(nondiverse)])\n",
    "            \n",
    "print(\"Successfully saved the mean values of the groups\")"
   ]
  },
  {
   "cell_type": "markdown",
   "id": "0c30f063",
   "metadata": {},
   "source": [
    "### Perform Mann-Whitney U test between the Diverse and Non-diverse lists"
   ]
  },
  {
   "cell_type": "code",
   "execution_count": 200,
   "id": "92b20fa6",
   "metadata": {},
   "outputs": [
    {
     "name": "stdout",
     "output_type": "stream",
     "text": [
      "Successfully performed the test and saved the result\n"
     ]
    }
   ],
   "source": [
    "div_result = mannwhitneyu(diverse, nondiverse)\n",
    "with open(folder+'statistical_pvalues.csv', 'a', newline='') as f:\n",
    "            writer = csv.writer(f)\n",
    "            writer.writerow(['Diverse', 'Non-diverse', div_result.pvalue])\n",
    "            \n",
    "print(\"Successfully performed the test and saved the result\")"
   ]
  },
  {
   "cell_type": "code",
   "execution_count": 201,
   "id": "51e04e43",
   "metadata": {},
   "outputs": [
    {
     "data": {
      "image/png": "[encoded data removed]",
      "text/plain": [
       "<Figure size 432x288 with 1 Axes>"
      ]
     },
     "metadata": {
      "needs_background": "light"
     },
     "output_type": "display_data"
    }
   ],
   "source": [
    "diverse_plot = pd.DataFrame(diverse)\n",
    "nondiverse_plot = pd.DataFrame(nordiverse)\n",
    "\n",
    "diverse_vs_nondiverse = diverse_plot.join(nondiverse_plot, lsuffix='big', rsuffix='small')\n",
    "diverse_vs_nondiverse = diverse_plot.join(nondiverse_plot, lsuffix='diverse', rsuffix='non-diverse').boxplot(column=['0diverse', '0non-diverse'], grid=False, showfliers=False)\n",
    "plt.savefig(folder+'plots/Diverse_vs_Nondiverse.png')"
   ]
  },
  {
   "cell_type": "code",
   "execution_count": null,
   "id": "3d54c413",
   "metadata": {},
   "outputs": [],
   "source": []
  }
 ],
 "metadata": {
  "kernelspec": {
   "display_name": "Python 3 (ipykernel)",
   "language": "python",
   "name": "python3"
  },
  "language_info": {
   "codemirror_mode": {
    "name": "ipython",
    "version": 3
   },
   "file_extension": ".py",
   "mimetype": "text/x-python",
   "name": "python",
   "nbconvert_exporter": "python",
   "pygments_lexer": "ipython3",
   "version": "3.10.2"
  }
 },
 "nbformat": 4,
 "nbformat_minor": 5
}
