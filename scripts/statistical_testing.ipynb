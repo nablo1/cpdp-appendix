{
 "cells": [
  {
   "cell_type": "code",
   "execution_count": 1,
   "id": "2844e4d0",
   "metadata": {},
   "outputs": [],
   "source": [
    "from scipy.stats import mannwhitneyu\n",
    "import itertools\n",
    "import pandas as pd\n",
    "import matplotlib.pyplot as plt"
   ]
  },
  {
   "cell_type": "code",
   "execution_count": 2,
   "id": "f0d67252",
   "metadata": {},
   "outputs": [],
   "source": [
    "library = [0.57,0.32,0.72,0.56,0.51,0.68,0.6,0.54,0.62,0.3,0.47,0.49,0.42,0.74]\n",
    "multimedia = [0.69,0.64,0.58,0.69,0.56,0.74,0.67,0.59,0.65,0.65,0.55,0.53,0.73,0.54]\n",
    "utility = [0.57,0.68,0.44,0.61,0.65,0.51,0.65,0.56,0.52,0.29,0.69,0.53,0.76,0.32]\n",
    "business = [0.53,0.55,0.44,0.7,0.7,0.56,0.53,0.59,0.59,0.62,0.57,0.65,0.75,0.59]"
   ]
  },
  {
   "cell_type": "code",
   "execution_count": 13,
   "id": "b2c3dfe1",
   "metadata": {},
   "outputs": [],
   "source": [
    "lists = [library, multimedia, utility, business]\n",
    "lists_names = [\"Library\", \"Multimedia\", \"Utility\", \"Business\"]"
   ]
  },
  {
   "cell_type": "code",
   "execution_count": 14,
   "id": "b36e7ac0",
   "metadata": {},
   "outputs": [],
   "source": [
    "nr_lists = []\n",
    "for i in range(len(lists)):\n",
    "    nr_lists.append(i) "
   ]
  },
  {
   "cell_type": "code",
   "execution_count": 15,
   "id": "e0e2003e",
   "metadata": {
    "scrolled": false
   },
   "outputs": [
    {
     "name": "stdout",
     "output_type": "stream",
     "text": [
      "The p-value of the statistical significance test between Library and Multimedia is: 0.05941024968597615\n",
      "The p-value of the statistical significance test between Library and Utility is: 0.6789700083319852\n",
      "The p-value of the statistical significance test between Library and Business is: 0.23165221696225213\n",
      "The p-value of the statistical significance test between Multimedia and Utility is: 0.13450263442932778\n",
      "The p-value of the statistical significance test between Multimedia and Business is: 0.40678798682769346\n",
      "The p-value of the statistical significance test between Utility and Business is: 0.4337290935623229\n"
     ]
    }
   ],
   "source": [
    "pairs = list(itertools.combinations(nr_lists, 2))\n",
    "for i in range(len(pairs)):\n",
    "    result = mannwhitneyu(lists[pairs[i][0]], lists[pairs[i][1]])\n",
    "    print(\"The p-value of the statistical significance test between\",lists_names[pairs[i][0]], \"and\", lists_names[pairs[i][1]],\"is:\", result.pvalue) \n",
    "    "
   ]
  },
  {
   "cell_type": "code",
   "execution_count": null,
   "id": "0bd6bcaa",
   "metadata": {},
   "outputs": [],
   "source": []
  },
  {
   "cell_type": "code",
   "execution_count": 250,
   "id": "629ff3ab",
   "metadata": {},
   "outputs": [],
   "source": [
    "library_df = pd.DataFrame(library)\n",
    "multimedia_df = pd.DataFrame(multimedia)"
   ]
  },
  {
   "cell_type": "code",
   "execution_count": 274,
   "id": "348ecf62",
   "metadata": {},
   "outputs": [],
   "source": [
    "library_vs_multimedia = library_df.join(multimedia_df, lsuffix='library', rsuffix='multimedia')"
   ]
  },
  {
   "cell_type": "code",
   "execution_count": 275,
   "id": "052c9094",
   "metadata": {},
   "outputs": [
    {
     "data": {
      "text/html": [
       "<div>\n",
       "<style scoped>\n",
       "    .dataframe tbody tr th:only-of-type {\n",
       "        vertical-align: middle;\n",
       "    }\n",
       "\n",
       "    .dataframe tbody tr th {\n",
       "        vertical-align: top;\n",
       "    }\n",
       "\n",
       "    .dataframe thead th {\n",
       "        text-align: right;\n",
       "    }\n",
       "</style>\n",
       "<table border=\"1\" class=\"dataframe\">\n",
       "  <thead>\n",
       "    <tr style=\"text-align: right;\">\n",
       "      <th></th>\n",
       "      <th>0library</th>\n",
       "      <th>0multimedia</th>\n",
       "    </tr>\n",
       "  </thead>\n",
       "  <tbody>\n",
       "    <tr>\n",
       "      <th>0</th>\n",
       "      <td>0.57</td>\n",
       "      <td>0.69</td>\n",
       "    </tr>\n",
       "    <tr>\n",
       "      <th>1</th>\n",
       "      <td>0.32</td>\n",
       "      <td>0.64</td>\n",
       "    </tr>\n",
       "    <tr>\n",
       "      <th>2</th>\n",
       "      <td>0.72</td>\n",
       "      <td>0.58</td>\n",
       "    </tr>\n",
       "    <tr>\n",
       "      <th>3</th>\n",
       "      <td>0.56</td>\n",
       "      <td>0.69</td>\n",
       "    </tr>\n",
       "    <tr>\n",
       "      <th>4</th>\n",
       "      <td>0.51</td>\n",
       "      <td>0.56</td>\n",
       "    </tr>\n",
       "  </tbody>\n",
       "</table>\n",
       "</div>"
      ],
      "text/plain": [
       "   0library  0multimedia\n",
       "0      0.57         0.69\n",
       "1      0.32         0.64\n",
       "2      0.72         0.58\n",
       "3      0.56         0.69\n",
       "4      0.51         0.56"
      ]
     },
     "execution_count": 275,
     "metadata": {},
     "output_type": "execute_result"
    }
   ],
   "source": [
    "library_vs_multimedia.head()"
   ]
  },
  {
   "cell_type": "code",
   "execution_count": 278,
   "id": "ce8e0d40",
   "metadata": {},
   "outputs": [
    {
     "data": {
      "image/png": "[encoded data removed]",
      "text/plain": [
       "<Figure size 432x288 with 1 Axes>"
      ]
     },
     "metadata": {
      "needs_background": "light"
     },
     "output_type": "display_data"
    }
   ],
   "source": [
    "library_vs_multimedia.boxplot(column=['0library', '0multimedia'], grid=False)\n",
    "plt.show()"
   ]
  },
  {
   "cell_type": "code",
   "execution_count": null,
   "id": "ec6bb3c0",
   "metadata": {},
   "outputs": [],
   "source": []
  }
 ],
 "metadata": {
  "kernelspec": {
   "display_name": "Python 3 (ipykernel)",
   "language": "python",
   "name": "python3"
  },
  "language_info": {
   "codemirror_mode": {
    "name": "ipython",
    "version": 3
   },
   "file_extension": ".py",
   "mimetype": "text/x-python",
   "name": "python",
   "nbconvert_exporter": "python",
   "pygments_lexer": "ipython3",
   "version": "3.10.2"
  }
 },
 "nbformat": 4,
 "nbformat_minor": 5
}
