{
 "cells": [
  {
   "cell_type": "markdown",
   "id": "a8eea50e",
   "metadata": {},
   "source": [
    "### Import required modules"
   ]
  },
  {
   "cell_type": "code",
   "execution_count": 1,
   "id": "2844e4d0",
   "metadata": {},
   "outputs": [],
   "source": [
    "from scipy.stats import mannwhitneyu\n",
    "import itertools\n",
    "import pandas as pd\n",
    "import matplotlib.pyplot as plt\n",
    "from pylab import *\n",
    "import statistics"
   ]
  },
  {
   "cell_type": "markdown",
   "id": "872c9d67",
   "metadata": {},
   "source": [
    "# Tests for projects predictions (results fot RQ1)"
   ]
  },
  {
   "cell_type": "markdown",
   "id": "ff42779f",
   "metadata": {},
   "source": [
    "### Get the results csv file and convert it to a dataframe"
   ]
  },
  {
   "cell_type": "code",
   "execution_count": 2,
   "id": "8ad720fe",
   "metadata": {},
   "outputs": [],
   "source": [
    "data = '../results/projects_accuracy_results.csv'"
   ]
  },
  {
   "cell_type": "code",
   "execution_count": 3,
   "id": "6c2252be",
   "metadata": {},
   "outputs": [],
   "source": [
    "data_df = pd.read_csv(data, sep=',')"
   ]
  },
  {
   "cell_type": "code",
   "execution_count": 4,
   "id": "150eb867",
   "metadata": {},
   "outputs": [
    {
     "data": {
      "text/plain": [
       "(1560, 3)"
      ]
     },
     "execution_count": 4,
     "metadata": {},
     "output_type": "execute_result"
    }
   ],
   "source": [
    "data_df.shape"
   ]
  },
  {
   "cell_type": "markdown",
   "id": "b9439acb",
   "metadata": {},
   "source": [
    "### Create a new dataframes for each size and domain group"
   ]
  },
  {
   "cell_type": "code",
   "execution_count": 5,
   "id": "4be5e0dc",
   "metadata": {},
   "outputs": [],
   "source": [
    "big_df = data_df[data_df['Predictor'].str.contains(\"BB|LB|UB|MB\", regex=True)]\n",
    "small_df = data_df[data_df['Predictor'].str.contains(\"BS|LS|US|MS\", regex=True)]\n",
    "business_df = data_df[data_df['Predictor'].str.contains(\"BB|BS\", regex=True)]\n",
    "library_df = data_df[data_df['Predictor'].str.contains(\"LB|LS\", regex=True)]\n",
    "utility_df = data_df[data_df['Predictor'].str.contains(\"UB|US\", regex=True)]\n",
    "multimedia_df = data_df[data_df['Predictor'].str.contains(\"MB|MS\", regex=True)]"
   ]
  },
  {
   "cell_type": "code",
   "execution_count": 6,
   "id": "5a3fe72e",
   "metadata": {},
   "outputs": [
    {
     "data": {
      "text/plain": [
       "((780, 3), (780, 3), (390, 3), (390, 3), (390, 3), (390, 3))"
      ]
     },
     "execution_count": 6,
     "metadata": {},
     "output_type": "execute_result"
    }
   ],
   "source": [
    "big_df.shape, small_df.shape, business_df.shape, library_df.shape, utility_df.shape, multimedia_df.shape"
   ]
  },
  {
   "cell_type": "markdown",
   "id": "4b53d6aa",
   "metadata": {},
   "source": [
    "### Get the accuracy column of each dataframe"
   ]
  },
  {
   "cell_type": "code",
   "execution_count": 7,
   "id": "4db03b11",
   "metadata": {},
   "outputs": [],
   "source": [
    "big_acc = big_df[['Accuracy']]\n",
    "small_acc = small_df[['Accuracy']]\n",
    "business_acc = business_df[['Accuracy']]\n",
    "library_acc = library_df[['Accuracy']]\n",
    "utility_acc = utility_df[['Accuracy']]\n",
    "multimedia_acc = multimedia_df[['Accuracy']]"
   ]
  },
  {
   "cell_type": "code",
   "execution_count": 8,
   "id": "5fc3907d",
   "metadata": {
    "scrolled": false
   },
   "outputs": [
    {
     "data": {
      "text/plain": [
       "((780, 1), (780, 1), (390, 1), (390, 1), (390, 1), (390, 1))"
      ]
     },
     "execution_count": 8,
     "metadata": {},
     "output_type": "execute_result"
    }
   ],
   "source": [
    "big_acc.shape, small_acc.shape, business_acc.shape, library_acc.shape, utility_acc.shape, multimedia_acc.shape"
   ]
  },
  {
   "cell_type": "markdown",
   "id": "c4ec7b3b",
   "metadata": {},
   "source": [
    "### Convert the accuracy values into NumPy arrays, then into lists"
   ]
  },
  {
   "cell_type": "code",
   "execution_count": 9,
   "id": "c3f6a4f3",
   "metadata": {},
   "outputs": [],
   "source": [
    "big_arr = np.array(big_acc, dtype = 'float32').ravel()\n",
    "small_arr = np.array(small_acc, dtype = 'float32').ravel()\n",
    "business_arr = np.array(business_acc, dtype = 'float32').ravel()\n",
    "library_arr = np.array(library_acc, dtype = 'float32').ravel()\n",
    "utility_arr = np.array(utility_acc, dtype = 'float32').ravel()\n",
    "multimedia_arr = np.array(multimedia_acc, dtype = 'float32').ravel()"
   ]
  },
  {
   "cell_type": "code",
   "execution_count": 10,
   "id": "ba611c4f",
   "metadata": {},
   "outputs": [
    {
     "data": {
      "text/plain": [
       "((780,), (780,), (390,), (390,), (390,), (390,))"
      ]
     },
     "execution_count": 10,
     "metadata": {},
     "output_type": "execute_result"
    }
   ],
   "source": [
    "big_arr.shape, small_arr.shape, business_arr.shape, library_arr.shape, utility_arr.shape, multimedia_arr.shape"
   ]
  },
  {
   "cell_type": "markdown",
   "id": "940aabfd",
   "metadata": {},
   "source": [
    "### Final lists to be tested"
   ]
  },
  {
   "cell_type": "code",
   "execution_count": 11,
   "id": "a4212d77",
   "metadata": {},
   "outputs": [],
   "source": [
    "big = big_arr.tolist()\n",
    "small = small_arr.tolist()\n",
    "business = business_arr.tolist()\n",
    "library = library_arr.tolist()\n",
    "utility = utility_arr.tolist()\n",
    "multimedia = multimedia_arr.tolist()"
   ]
  },
  {
   "cell_type": "markdown",
   "id": "be1936b0",
   "metadata": {},
   "source": [
    "### Mean values of each domain and size group"
   ]
  },
  {
   "cell_type": "code",
   "execution_count": 12,
   "id": "b6795b3e",
   "metadata": {
    "scrolled": true
   },
   "outputs": [
    {
     "name": "stdout",
     "output_type": "stream",
     "text": [
      "The mean value of Big size projects accuracy results is: 0.5483769575910021\n",
      "The mean value of Small size projects accuracy results is: 0.5347866121178063 \n",
      "\n",
      "The mean value of Business domain projects accuracy results is: 0.5506174123726594\n",
      "The mean value of Library domain projects accuracy results is: 0.527567394849104\n",
      "The mean value of Utility domain projects accuracy results is: 0.5340427962537759\n",
      "The mean value of Multimedia domain projects accuracy results is: 0.5540995359420776 \n",
      "\n"
     ]
    }
   ],
   "source": [
    "print(\"The mean value of Big size projects accuracy results is:\", statistics.mean(big))\n",
    "print(\"The mean value of Small size projects accuracy results is:\", statistics.mean(small), \"\\n\")\n",
    "print(\"The mean value of Business domain projects accuracy results is:\", statistics.mean(business))\n",
    "print(\"The mean value of Library domain projects accuracy results is:\", statistics.mean(library))\n",
    "print(\"The mean value of Utility domain projects accuracy results is:\", statistics.mean(utility))\n",
    "print(\"The mean value of Multimedia domain projects accuracy results is:\", statistics.mean(multimedia), \"\\n\")"
   ]
  },
  {
   "cell_type": "markdown",
   "id": "4d03110b",
   "metadata": {},
   "source": [
    "### Convert each list to dataframe for plotting purposes"
   ]
  },
  {
   "cell_type": "code",
   "execution_count": 13,
   "id": "83313ae5",
   "metadata": {},
   "outputs": [],
   "source": [
    "big_plot = pd.DataFrame(big)\n",
    "small_plot = pd.DataFrame(small)\n",
    "business_plot = pd.DataFrame(business)\n",
    "library_plot = pd.DataFrame(library)\n",
    "utility_plot = pd.DataFrame(utility)\n",
    "multimedia_plot = pd.DataFrame(multimedia)"
   ]
  },
  {
   "cell_type": "markdown",
   "id": "97fd54c1",
   "metadata": {},
   "source": [
    "### Perform Mann-Whitney U test between the Big and Small lists"
   ]
  },
  {
   "cell_type": "code",
   "execution_count": 14,
   "id": "49c3ea08",
   "metadata": {},
   "outputs": [],
   "source": [
    "result = mannwhitneyu(big, small)"
   ]
  },
  {
   "cell_type": "code",
   "execution_count": 15,
   "id": "ff5dc4ab",
   "metadata": {
    "scrolled": true
   },
   "outputs": [
    {
     "name": "stdout",
     "output_type": "stream",
     "text": [
      "The P-value of the statistical significance test between predictions of big projects and other of small projects is: 0.0474892730703384 \n",
      "\n"
     ]
    }
   ],
   "source": [
    "print(\"The P-value of the statistical significance test between predictions of big projects and other of small projects is:\", result.pvalue, \"\\n\")"
   ]
  },
  {
   "cell_type": "markdown",
   "id": "dd50ef7a",
   "metadata": {},
   "source": [
    "### Plot the results for the Big Vs Small data comparison"
   ]
  },
  {
   "cell_type": "code",
   "execution_count": 16,
   "id": "2d5df06d",
   "metadata": {},
   "outputs": [],
   "source": [
    "big_vs_small = big_plot.join(small_plot, lsuffix='big', rsuffix='small')"
   ]
  },
  {
   "cell_type": "code",
   "execution_count": 19,
   "id": "01c47893",
   "metadata": {
    "scrolled": true
   },
   "outputs": [
    {
     "data": {
      "image/png": "[encoded data removed]",
      "text/plain": [
       "<Figure size 432x288 with 1 Axes>"
      ]
     },
     "metadata": {
      "needs_background": "light"
     },
     "output_type": "display_data"
    }
   ],
   "source": [
    "big_vs_small.boxplot(column=['0big', '0small'], grid=False, showfliers=False)\n",
    "plt.show()"
   ]
  },
  {
   "cell_type": "code",
   "execution_count": null,
   "id": "31f4c11b",
   "metadata": {},
   "outputs": [],
   "source": []
  },
  {
   "cell_type": "markdown",
   "id": "e19e374c",
   "metadata": {},
   "source": [
    "### Perform Mann-Whitney U test for all possible pair combinations among domains lists"
   ]
  },
  {
   "cell_type": "code",
   "execution_count": 20,
   "id": "b2c3dfe1",
   "metadata": {},
   "outputs": [],
   "source": [
    "domains = [business, library, utility, multimedia] # Include all lists in this parent list to iterate through it\n",
    "domains_names = [\"Business\", \"Library\", \"Utility\", \"Multimedia\"] # List of strings that holds the names. MUST BE IN THE SAME ORDER\n",
    "domains_plots = [business_plot, library_plot, utility_plot, multimedia_plot] # Include all dataframes in this list. MUST BE IN THE SAME ORDER"
   ]
  },
  {
   "cell_type": "code",
   "execution_count": 21,
   "id": "b36e7ac0",
   "metadata": {},
   "outputs": [],
   "source": [
    "nr_domains = []\n",
    "for i in range(len(domains)):\n",
    "    nr_domains.append(i) "
   ]
  },
  {
   "cell_type": "code",
   "execution_count": 22,
   "id": "e0e2003e",
   "metadata": {
    "scrolled": false
   },
   "outputs": [
    {
     "name": "stdout",
     "output_type": "stream",
     "text": [
      "The P-value of the statistical significance test between Business and Library is: 0.026750032782123557 \n",
      "\n",
      "The P-value of the statistical significance test between Business and Utility is: 0.03491805236802343 \n",
      "\n",
      "The P-value of the statistical significance test between Business and Multimedia is: 0.9476701868119938 \n",
      "\n",
      "The P-value of the statistical significance test between Library and Utility is: 0.8828824311088987 \n",
      "\n",
      "The P-value of the statistical significance test between Library and Multimedia is: 0.02360752592720595 \n",
      "\n",
      "The P-value of the statistical significance test between Utility and Multimedia is: 0.030637400728111643 \n",
      "\n"
     ]
    }
   ],
   "source": [
    "pairs = list(itertools.combinations(nr_domains, 2))\n",
    "for i in range(len(pairs)):\n",
    "    result = mannwhitneyu(domains[pairs[i][0]], domains[pairs[i][1]])\n",
    "    print(\"The P-value of the statistical significance test between\",domains_names[pairs[i][0]], \"and\", domains_names[pairs[i][1]],\"is:\", result.pvalue, \"\\n\") \n",
    "    "
   ]
  },
  {
   "cell_type": "markdown",
   "id": "9177e8b0",
   "metadata": {},
   "source": [
    "### Plot the results for all possible pair combinations among domains data"
   ]
  },
  {
   "cell_type": "code",
   "execution_count": 23,
   "id": "c4b87429",
   "metadata": {
    "scrolled": true
   },
   "outputs": [
    {
     "data": {
      "image/png": "[encoded data removed]",
      "text/plain": [
       "<Figure size 432x288 with 1 Axes>"
      ]
     },
     "metadata": {
      "needs_background": "light"
     },
     "output_type": "display_data"
    },
    {
     "data": {
      "image/png": "[encoded data removed]",
      "text/plain": [
       "<Figure size 432x288 with 1 Axes>"
      ]
     },
     "metadata": {
      "needs_background": "light"
     },
     "output_type": "display_data"
    },
    {
     "data": {
      "image/png": "[encoded data removed]",
      "text/plain": [
       "<Figure size 432x288 with 1 Axes>"
      ]
     },
     "metadata": {
      "needs_background": "light"
     },
     "output_type": "display_data"
    },
    {
     "data": {
      "image/png": "[encoded data removed]",
      "text/plain": [
       "<Figure size 432x288 with 1 Axes>"
      ]
     },
     "metadata": {
      "needs_background": "light"
     },
     "output_type": "display_data"
    },
    {
     "data": {
      "image/png": "[encoded data removed]",
      "text/plain": [
       "<Figure size 432x288 with 1 Axes>"
      ]
     },
     "metadata": {
      "needs_background": "light"
     },
     "output_type": "display_data"
    },
    {
     "data": {
      "image/png": "[encoded data removed]",
      "text/plain": [
       "<Figure size 432x288 with 1 Axes>"
      ]
     },
     "metadata": {
      "needs_background": "light"
     },
     "output_type": "display_data"
    }
   ],
   "source": [
    "for i in range(len(pairs)):\n",
    "    combined_df = domains_plots[pairs[i][0]].join(domains_plots[pairs[i][1]], lsuffix=domains_names[pairs[i][0]], rsuffix=domains_names[pairs[i][1]])\n",
    "    pb = combined_df.boxplot(column=['0' + domains_names[pairs[i][0]], '0' + domains_names[pairs[i][1]]], grid=False, showfliers=False)\n",
    "    pb.set_ylabel('Prediction accuracy')\n",
    "    plt.show()"
   ]
  },
  {
   "cell_type": "markdown",
   "id": "9bc68b77",
   "metadata": {},
   "source": [
    "# Tests for combinations predictions (results for RQ2)"
   ]
  },
  {
   "cell_type": "code",
   "execution_count": 25,
   "id": "629ff3ab",
   "metadata": {},
   "outputs": [],
   "source": [
    "diversity_data = '../results/combinations_accuracy_results.csv'"
   ]
  },
  {
   "cell_type": "code",
   "execution_count": 26,
   "id": "ed8fc811",
   "metadata": {},
   "outputs": [],
   "source": [
    "diversity_df = pd.read_csv(diversity_data, sep=',')"
   ]
  },
  {
   "cell_type": "code",
   "execution_count": 27,
   "id": "f5bc1c6c",
   "metadata": {},
   "outputs": [
    {
     "data": {
      "text/plain": [
       "(128, 3)"
      ]
     },
     "execution_count": 27,
     "metadata": {},
     "output_type": "execute_result"
    }
   ],
   "source": [
    "diversity_df.shape"
   ]
  },
  {
   "cell_type": "code",
   "execution_count": 28,
   "id": "18a4660f",
   "metadata": {},
   "outputs": [],
   "source": [
    "diverse_df = diversity_df[diversity_df['Predictor'].str.contains(\"1|2|3|4|5|6|7|8\", regex=True)]\n",
    "nondiverse_df = diversity_df[diversity_df['Predictor'].str.contains(\"nondiverse\", regex=True)]"
   ]
  },
  {
   "cell_type": "code",
   "execution_count": 29,
   "id": "b37d2909",
   "metadata": {},
   "outputs": [
    {
     "data": {
      "text/plain": [
       "((64, 3), (64, 3))"
      ]
     },
     "execution_count": 29,
     "metadata": {},
     "output_type": "execute_result"
    }
   ],
   "source": [
    "diverse_df.shape, nondiverse_df.shape"
   ]
  },
  {
   "cell_type": "code",
   "execution_count": 30,
   "id": "464718d0",
   "metadata": {},
   "outputs": [],
   "source": [
    "diverse_acc = diverse_df[['Accuracy']]\n",
    "nondiverse_acc = nondiverse_df[['Accuracy']]"
   ]
  },
  {
   "cell_type": "code",
   "execution_count": 31,
   "id": "39f10a2c",
   "metadata": {},
   "outputs": [
    {
     "data": {
      "text/plain": [
       "((64, 1), (64, 1))"
      ]
     },
     "execution_count": 31,
     "metadata": {},
     "output_type": "execute_result"
    }
   ],
   "source": [
    "diverse_acc.shape, nondiverse_acc.shape"
   ]
  },
  {
   "cell_type": "code",
   "execution_count": 32,
   "id": "201558a6",
   "metadata": {},
   "outputs": [],
   "source": [
    "diverse_arr = np.array(diverse_acc, dtype = 'float32').ravel()\n",
    "nordiverse_arr = np.array(nondiverse_acc, dtype = 'float32').ravel()"
   ]
  },
  {
   "cell_type": "code",
   "execution_count": 33,
   "id": "495cb46c",
   "metadata": {},
   "outputs": [
    {
     "data": {
      "text/plain": [
       "((64,), (64,))"
      ]
     },
     "execution_count": 33,
     "metadata": {},
     "output_type": "execute_result"
    }
   ],
   "source": [
    "diverse_arr.shape, nordiverse_arr.shape"
   ]
  },
  {
   "cell_type": "code",
   "execution_count": 34,
   "id": "32a91c9b",
   "metadata": {},
   "outputs": [],
   "source": [
    "diverse = diverse_arr.tolist()\n",
    "nordiverse = nordiverse_arr.tolist()"
   ]
  },
  {
   "cell_type": "code",
   "execution_count": 35,
   "id": "8c4a3eaa",
   "metadata": {
    "scrolled": false
   },
   "outputs": [
    {
     "name": "stdout",
     "output_type": "stream",
     "text": [
      "The mean value of diverse sets of projects projects accuracy results is: 0.5383737026713789\n",
      "The mean value of Non-diverse sets of projects accuracy results is: 0.5836917595006526 \n",
      "\n"
     ]
    }
   ],
   "source": [
    "print(\"The mean value of diverse sets of projects projects accuracy results is:\", statistics.mean(diverse))\n",
    "print(\"The mean value of Non-diverse sets of projects accuracy results is:\", statistics.mean(nordiverse), \"\\n\")"
   ]
  },
  {
   "cell_type": "code",
   "execution_count": 36,
   "id": "a0a28994",
   "metadata": {},
   "outputs": [],
   "source": [
    "diversyt_result = mannwhitneyu(diverse, nordiverse)"
   ]
  },
  {
   "cell_type": "code",
   "execution_count": 37,
   "id": "65936388",
   "metadata": {},
   "outputs": [
    {
     "name": "stdout",
     "output_type": "stream",
     "text": [
      "The P-value of the statistical significance test between predictions of diverse and non-diverse sets is: 0.2879014294660861 \n",
      "\n"
     ]
    }
   ],
   "source": [
    "print(\"The P-value of the statistical significance test between predictions of diverse and non-diverse sets is:\", diversyt_result.pvalue, \"\\n\")"
   ]
  },
  {
   "cell_type": "code",
   "execution_count": 38,
   "id": "acbe5dc0",
   "metadata": {},
   "outputs": [],
   "source": [
    "diverse_plot = pd.DataFrame(diverse)\n",
    "nondiverse_plot = pd.DataFrame(nordiverse)"
   ]
  },
  {
   "cell_type": "code",
   "execution_count": 39,
   "id": "03b9ef49",
   "metadata": {},
   "outputs": [],
   "source": [
    "diverse_vs_nondiverse = diverse_plot.join(nondiverse_plot, lsuffix='big', rsuffix='small')"
   ]
  },
  {
   "cell_type": "code",
   "execution_count": 40,
   "id": "c028789d",
   "metadata": {},
   "outputs": [
    {
     "data": {
      "image/png": "[encoded data removed]",
      "text/plain": [
       "<Figure size 432x288 with 1 Axes>"
      ]
     },
     "metadata": {
      "needs_background": "light"
     },
     "output_type": "display_data"
    }
   ],
   "source": [
    "diverse_vs_nondiverse = diverse_plot.join(nondiverse_plot, lsuffix='diverse', rsuffix='non-diverse').boxplot(column=['0diverse', '0non-diverse'], grid=False, showfliers=False)\n",
    "plt.show()"
   ]
  },
  {
   "cell_type": "code",
   "execution_count": null,
   "id": "3d54c413",
   "metadata": {},
   "outputs": [],
   "source": []
  }
 ],
 "metadata": {
  "kernelspec": {
   "display_name": "Python 3 (ipykernel)",
   "language": "python",
   "name": "python3"
  },
  "language_info": {
   "codemirror_mode": {
    "name": "ipython",
    "version": 3
   },
   "file_extension": ".py",
   "mimetype": "text/x-python",
   "name": "python",
   "nbconvert_exporter": "python",
   "pygments_lexer": "ipython3",
   "version": "3.10.2"
  }
 },
 "nbformat": 4,
 "nbformat_minor": 5
}
