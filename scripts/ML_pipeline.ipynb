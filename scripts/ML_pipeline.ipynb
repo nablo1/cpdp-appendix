{
 "cells": [
  {
   "cell_type": "markdown",
   "id": "43d667bc",
   "metadata": {},
   "source": [
    "### Import required modules"
   ]
  },
  {
   "cell_type": "code",
   "execution_count": 1,
   "id": "45782f10",
   "metadata": {},
   "outputs": [],
   "source": [
    "import pandas as pd \n",
    "import numpy as np\n",
    "import matplotlib.pyplot as plt \n",
    "from sklearn.model_selection import train_test_split\n",
    "from sklearn import metrics\n",
    "from sklearn.metrics import confusion_matrix\n",
    "from sklearn.ensemble import RandomForestClassifier\n",
    "from sklearn.naive_bayes import GaussianNB\n",
    "from sklearn import tree\n",
    "from sklearn.neighbors import KNeighborsClassifier\n",
    "from sklearn.linear_model import LogisticRegression\n",
    "from sklearn.neural_network import MLPClassifier\n",
    "from sklearn import svm\n",
    "import ntpath\n",
    "import itertools\n",
    "import os\n",
    "import warnings\n",
    "import csv"
   ]
  },
  {
   "cell_type": "code",
   "execution_count": 2,
   "id": "34a0839c",
   "metadata": {},
   "outputs": [],
   "source": [
    "warnings.filterwarnings('ignore') "
   ]
  },
  {
   "cell_type": "markdown",
   "id": "2d6fb63b",
   "metadata": {},
   "source": [
    "### List of classifiers to choose from"
   ]
  },
  {
   "cell_type": "code",
   "execution_count": 3,
   "id": "0c321bd4",
   "metadata": {},
   "outputs": [],
   "source": [
    "rf = RandomForestClassifier(n_estimators=100)\n",
    "gnb = GaussianNB() # Gaussian Naive Bayes\n",
    "dt = tree.DecisionTreeClassifier()\n",
    "neigh = KNeighborsClassifier(n_neighbors=3)\n",
    "lr = LogisticRegression(random_state=0)\n",
    "mlp = MLPClassifier(solver='lbfgs', alpha=1e-5, hidden_layer_sizes=(5, 2), random_state=1) # Multi-layer Perceptron\n",
    "#svm = svm.SVC() # Support Vector Machines"
   ]
  },
  {
   "cell_type": "markdown",
   "id": "23980099",
   "metadata": {},
   "source": [
    "### Reusable predictions function"
   ]
  },
  {
   "cell_type": "code",
   "execution_count": 9,
   "id": "478e79f9",
   "metadata": {},
   "outputs": [],
   "source": [
    "def run_predictions(train_file, test_file, classifier):\n",
    "    ## Load datasets\n",
    "    train_path = train_file\n",
    "    test_path = test_file\n",
    "\n",
    "    ## Store datasets in dataframes\n",
    "    train_df = pd.read_csv(train_path, sep=',')\n",
    "    test_df = pd.read_csv(test_path, sep=',')\n",
    "\n",
    "    ## Drop unused columns from the dataframes\n",
    "    train_df = train_df.drop(\"javafile\", 1)\n",
    "    train_df = train_df.drop(\"classfile\", 1)\n",
    "\n",
    "    test_df = test_df.drop(\"javafile\", 1)\n",
    "    test_df = test_df.drop(\"classfile\", 1)\n",
    "\n",
    "    ## Convert into NumPy arrays\n",
    "    train_arr = np.array(train_df, dtype = 'float32')\n",
    "    test_arr = np.array(test_df, dtype = 'float32')\n",
    "\n",
    "    ## Split data into metrics (X) ang labels (Y)\n",
    "    X_train = train_arr[:,0:16]\n",
    "    y_train = train_arr[:,16]\n",
    "\n",
    "    X_test = test_arr[:,0:16]\n",
    "    y_test = test_arr[:,16]\n",
    "\n",
    "    ## Initialize and run classifier\n",
    "    classifier = classifier # CHOOSE FROM THE LIST ABOVE\n",
    "    classifier.fit(X_train, y_train)\n",
    "        \n",
    "    ## Predict on test set and save the performance results\n",
    "    prediction = classifier.predict(X_test)\n",
    "    report = metrics.classification_report(y_test, prediction)\n",
    "    accuracy = metrics.accuracy_score(y_test, prediction)\n",
    "    \n",
    "    return report, accuracy, classifier"
   ]
  },
  {
   "cell_type": "markdown",
   "id": "6a2557fb",
   "metadata": {},
   "source": [
    "# Prediction using projects - related to RQ1"
   ]
  },
  {
   "cell_type": "code",
   "execution_count": 18,
   "id": "b25d8e56",
   "metadata": {},
   "outputs": [],
   "source": [
    "projects = []\n",
    "for files in os.walk('../data/projects_tables'):\n",
    "    for f in files[2]:\n",
    "        projects.append(\"../data/projects_tables/\" + f)"
   ]
  },
  {
   "cell_type": "code",
   "execution_count": 19,
   "id": "b5b24ebc",
   "metadata": {
    "scrolled": true
   },
   "outputs": [
    {
     "name": "stdout",
     "output_type": "stream",
     "text": [
      "['../data/projects_tables/activiti_BB.csv', '../data/projects_tables/agrona_US.csv', '../data/projects_tables/androidmaps_US.csv', '../data/projects_tables/antennapod_MB.csv', '../data/projects_tables/blaze_LB.csv', '../data/projects_tables/commons_UB.csv', '../data/projects_tables/daqeclipse_LB.csv', '../data/projects_tables/dependencycheck_US.csv', '../data/projects_tables/ebean_LB.csv', '../data/projects_tables/exoplayer_MB.csv', '../data/projects_tables/facebooksdk_BB.csv', '../data/projects_tables/flowable_LB.csv', '../data/projects_tables/googleauth_LS.csv', '../data/projects_tables/gsyvideoplayer_MS.csv', '../data/projects_tables/jabref_UB.csv', '../data/projects_tables/javacv_MS.csv', '../data/projects_tables/jbpm_BB.csv', '../data/projects_tables/jmock_LS.csv', '../data/projects_tables/k9_UB.csv', '../data/projects_tables/metadata_MS.csv', '../data/projects_tables/mindustry_MB.csv', '../data/projects_tables/modernmt_BS.csv', '../data/projects_tables/osmdroid_MB.csv', '../data/projects_tables/phonograph_MS.csv', '../data/projects_tables/pipeline_US.csv', '../data/projects_tables/qlexpress_BS.csv', '../data/projects_tables/rxjava_LB.csv', '../data/projects_tables/seedstack_BS.csv', '../data/projects_tables/sentinel_UB.csv', '../data/projects_tables/snowflake_US.csv', '../data/projects_tables/spark_BB.csv', '../data/projects_tables/springdock_LS.csv', '../data/projects_tables/stroom_BB.csv', '../data/projects_tables/sudachi_BS.csv', '../data/projects_tables/talon_UB.csv', '../data/projects_tables/tessera_BS.csv', '../data/projects_tables/thumbnailator_LS.csv', '../data/projects_tables/vinyl_MS.csv', '../data/projects_tables/yue_LS.csv', '../data/projects_tables/zxing_MB.csv']\n"
     ]
    }
   ],
   "source": [
    "print(projects)"
   ]
  },
  {
   "cell_type": "code",
   "execution_count": 20,
   "id": "4cf3a224",
   "metadata": {},
   "outputs": [],
   "source": [
    "with open('../results/projects_accuracy_results.csv', 'w', newline='') as f:\n",
    "        writer = csv.writer(f)\n",
    "        writer.writerow(['Predictor', 'Target', 'Accuracy'])"
   ]
  },
  {
   "cell_type": "code",
   "execution_count": 22,
   "id": "e028d766",
   "metadata": {},
   "outputs": [
    {
     "name": "stdout",
     "output_type": "stream",
     "text": [
      "All predictions for projects were executed successfully!\n"
     ]
    }
   ],
   "source": [
    "for tr in projects:\n",
    "    for tst in projects:\n",
    "        if tr != tst:\n",
    "            report, accuracy, classifier = run_predictions(tr, tst, rf)\n",
    "            \n",
    "            with open('../results/projects_classification_reports.txt', 'a') as f:\n",
    "                f.write(f\"Classification report for {classifier} trained on {ntpath.basename(tr)} and tested on {ntpath.basename(tst)}:\\n\\n\"\n",
    "                f\"{report}\\n\")\n",
    "                \n",
    "            with open('../results/projects_accuracy_results.csv', 'a', newline='') as f:\n",
    "                writer = csv.writer(f)\n",
    "                writer.writerow([ntpath.basename(tr), ntpath.basename(tst), accuracy])\n",
    "                \n",
    "print(\"All predictions for projects were executed successfully!\")"
   ]
  },
  {
   "cell_type": "markdown",
   "id": "82f5be9a",
   "metadata": {},
   "source": [
    "# Prediction using combinations of projects (diversity sets) - related to RQ2"
   ]
  },
  {
   "cell_type": "code",
   "execution_count": 12,
   "id": "9718edd6",
   "metadata": {},
   "outputs": [],
   "source": [
    "diversity_sets = []\n",
    "for files in os.walk('../data/combinations_tables'):\n",
    "    for f in files[2]:\n",
    "        diversity_sets.append(\"../data/combinations_tables/\" + f)"
   ]
  },
  {
   "cell_type": "code",
   "execution_count": 13,
   "id": "0b9068af",
   "metadata": {},
   "outputs": [
    {
     "name": "stdout",
     "output_type": "stream",
     "text": [
      "['../data/combinations_tables/diverse1.csv', '../data/combinations_tables/diverse2.csv', '../data/combinations_tables/diverse3.csv', '../data/combinations_tables/diverse4.csv', '../data/combinations_tables/diverse5.csv', '../data/combinations_tables/diverse6.csv', '../data/combinations_tables/diverse7.csv', '../data/combinations_tables/diverse8.csv', '../data/combinations_tables/nondiverse_BB.csv', '../data/combinations_tables/nondiverse_BL.csv', '../data/combinations_tables/nondiverse_BM.csv', '../data/combinations_tables/nondiverse_BU.csv', '../data/combinations_tables/nondiverse_SB.csv', '../data/combinations_tables/nondiverse_SL.csv', '../data/combinations_tables/nondiverse_SM.csv', '../data/combinations_tables/nondiverse_SU.csv']\n"
     ]
    }
   ],
   "source": [
    "print(diversity_sets)"
   ]
  },
  {
   "cell_type": "code",
   "execution_count": 14,
   "id": "8553c108",
   "metadata": {},
   "outputs": [],
   "source": [
    "testing_projects = ['../data/projects_tables/facebooksdk_BB.csv', '../data/projects_tables/tessera_BS.csv', '../data/projects_tables/zxing_MB.csv', '../data/projects_tables/javacv_MS.csv', '../data/projects_tables/flowable_LB.csv', '../data/projects_tables/googleauth_LS.csv', '../data/projects_tables/k9_UB.csv', '../data/projects_tables/pipeline_US.csv']"
   ]
  },
  {
   "cell_type": "code",
   "execution_count": 8,
   "id": "4114fadd",
   "metadata": {},
   "outputs": [],
   "source": [
    "with open('../results/combinations_accuracy_results.csv', 'w', newline='') as f:\n",
    "        writer = csv.writer(f)\n",
    "        writer.writerow(['Predictor', 'Target', 'Accuracy'])"
   ]
  },
  {
   "cell_type": "code",
   "execution_count": 16,
   "id": "969bb479",
   "metadata": {},
   "outputs": [
    {
     "name": "stdout",
     "output_type": "stream",
     "text": [
      "All predictions of diversity sets were executed successfully!\n"
     ]
    }
   ],
   "source": [
    "for tr in diversity_sets:\n",
    "    for tst in testing_projects:\n",
    "        report, accuracy, classifier = run_predictions(tr, tst, rf)\n",
    "                \n",
    "        with open('../results/combinations_classification_reports.txt', 'a') as f:\n",
    "            f.write(f\"Classification report for {classifier} trained on {ntpath.basename(tr)} and tested on {ntpath.basename(tst)}:\\n\\n\"\n",
    "            f\"{report}\\n\")\n",
    "                \n",
    "        with open('../results/combinations_accuracy_results.csv', 'a', newline='') as f:\n",
    "            writer = csv.writer(f)\n",
    "            writer.writerow([ntpath.basename(tr), ntpath.basename(tst), accuracy])\n",
    "                \n",
    "print(\"All predictions of diversity sets were executed successfully!\")"
   ]
  },
  {
   "cell_type": "code",
   "execution_count": null,
   "id": "8efefdc4",
   "metadata": {},
   "outputs": [],
   "source": []
  }
 ],
 "metadata": {
  "kernelspec": {
   "display_name": "Python 3 (ipykernel)",
   "language": "python",
   "name": "python3"
  },
  "language_info": {
   "codemirror_mode": {
    "name": "ipython",
    "version": 3
   },
   "file_extension": ".py",
   "mimetype": "text/x-python",
   "name": "python",
   "nbconvert_exporter": "python",
   "pygments_lexer": "ipython3",
   "version": "3.10.2"
  }
 },
 "nbformat": 4,
 "nbformat_minor": 5
}
