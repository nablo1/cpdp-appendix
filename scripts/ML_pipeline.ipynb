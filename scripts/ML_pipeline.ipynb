{
 "cells": [
  {
   "cell_type": "code",
   "execution_count": 1,
   "id": "45782f10",
   "metadata": {},
   "outputs": [],
   "source": [
    "import pandas as pd \n",
    "import numpy as np\n",
    "import matplotlib.pyplot as plt \n",
    "from sklearn.model_selection import train_test_split\n",
    "from sklearn import metrics\n",
    "from sklearn.metrics import confusion_matrix\n",
    "from sklearn.ensemble import RandomForestClassifier\n",
    "from sklearn.naive_bayes import GaussianNB\n",
    "from sklearn import tree\n",
    "from sklearn.neighbors import KNeighborsClassifier\n",
    "from sklearn.linear_model import LogisticRegression\n",
    "from sklearn.neural_network import MLPClassifier\n",
    "from sklearn import svm\n",
    "import ntpath\n",
    "import itertools\n",
    "import os\n",
    "import warnings\n",
    "import csv"
   ]
  },
  {
   "cell_type": "code",
   "execution_count": 2,
   "id": "34a0839c",
   "metadata": {},
   "outputs": [],
   "source": [
    "warnings.filterwarnings('ignore')"
   ]
  },
  {
   "cell_type": "code",
   "execution_count": 3,
   "id": "0c321bd4",
   "metadata": {},
   "outputs": [],
   "source": [
    "rf = RandomForestClassifier(n_estimators=100)\n",
    "gnb = GaussianNB() # Gaussian Naive Bayes\n",
    "dt = tree.DecisionTreeClassifier()\n",
    "neigh = KNeighborsClassifier(n_neighbors=3)\n",
    "lr = LogisticRegression(random_state=0)\n",
    "mlp = MLPClassifier(solver='lbfgs', alpha=1e-5, hidden_layer_sizes=(5, 2), random_state=1) # Multi-layer Perceptron\n",
    "#svm = svm.SVC() # Support Vector Machines"
   ]
  },
  {
   "cell_type": "code",
   "execution_count": 4,
   "id": "b25d8e56",
   "metadata": {},
   "outputs": [],
   "source": [
    "projects = []\n",
    "for files in os.walk('../data'):\n",
    "    for f in files[2]:\n",
    "        projects.append(\"../data/\" + f)"
   ]
  },
  {
   "cell_type": "code",
   "execution_count": 5,
   "id": "b5b24ebc",
   "metadata": {
    "scrolled": true
   },
   "outputs": [
    {
     "name": "stdout",
     "output_type": "stream",
     "text": [
      "['../data/activiti_BB.csv', '../data/agrona_US.csv', '../data/androidmaps_US.csv', '../data/antennapod_MB.csv', '../data/blaze_LB.csv', '../data/commons_UB.csv', '../data/daqeclipse_LB.csv', '../data/dependencycheck_US.csv', '../data/ebean_LB.csv', '../data/exoplayer_MB.csv', '../data/facebooksdk_BB.csv', '../data/flowable_LB.csv', '../data/googleauth_LS.csv', '../data/gsyvideoplayer_MS.csv', '../data/jabref_UB.csv', '../data/javacv_MS.csv', '../data/jbpm_BB.csv', '../data/jmock_LS.csv', '../data/k9_UB.csv', '../data/metadata_MS.csv', '../data/mindustry_MB.csv', '../data/modernmt_BS.csv', '../data/osmdroid_MB.csv', '../data/phonograph_MS.csv', '../data/pipeline_US.csv', '../data/qlexpress_BS.csv', '../data/rxjava_LB.csv', '../data/seedstack_BS.csv', '../data/sentinel_UB.csv', '../data/snowflake_US.csv', '../data/spark_BB.csv', '../data/springdock_LS.csv', '../data/stroom_BB.csv', '../data/sudachi_BS.csv', '../data/talon_UB.csv', '../data/tessera_BS.csv', '../data/thumbnailator_LS.csv', '../data/vinyl_MS.csv', '../data/yue_LS.csv', '../data/zxing_MB.csv']\n"
     ]
    }
   ],
   "source": [
    "print(projects)"
   ]
  },
  {
   "cell_type": "code",
   "execution_count": 6,
   "id": "4cf3a224",
   "metadata": {},
   "outputs": [],
   "source": [
    "with open('../results/accuracy_results.csv', 'w', newline='') as f:\n",
    "        writer = csv.writer(f)\n",
    "        writer.writerow(['Predictor', 'Target', 'Accuracy'])"
   ]
  },
  {
   "cell_type": "code",
   "execution_count": 7,
   "id": "e028d766",
   "metadata": {},
   "outputs": [
    {
     "name": "stdout",
     "output_type": "stream",
     "text": [
      "All predictions were executed successfully!\n"
     ]
    }
   ],
   "source": [
    "for a in projects:\n",
    "    for b in projects:\n",
    "        if a != b:\n",
    "            \n",
    "            ## Load datasets\n",
    "            train_path = a\n",
    "            test_path = b\n",
    "\n",
    "            ## Get project name for manual testing\n",
    "            train_file = ntpath.basename(train_path)\n",
    "            test_file = ntpath.basename(test_path)\n",
    "\n",
    "            ## Store datasets in dataframes\n",
    "            train_df = pd.read_csv(train_path, sep=',')\n",
    "            test_df = pd.read_csv(test_path, sep=',')\n",
    "\n",
    "            ## Drop unused columns from the dataframes\n",
    "            train_df = train_df.drop(\"javafile\", 1)\n",
    "            train_df = train_df.drop(\"classfile\", 1)\n",
    "\n",
    "            test_df = test_df.drop(\"javafile\", 1)\n",
    "            test_df = test_df.drop(\"classfile\", 1)\n",
    "\n",
    "            ## Convert into NumPy arrays\n",
    "            train_arr = np.array(train_df, dtype = 'float32')\n",
    "            test_arr = np.array(test_df, dtype = 'float32')\n",
    "\n",
    "            ## Split data into metrics (X) ang labels (Y)\n",
    "            X_train = train_arr[:,0:16]\n",
    "            y_train = train_arr[:,16]\n",
    "\n",
    "            X_test = test_arr[:,0:16]\n",
    "            y_test = test_arr[:,16]\n",
    "\n",
    "            ## Initialize and run classifier\n",
    "            classifier = rf  # CHOOSE FROM THE LIST ABOVE\n",
    "            classifier.fit(X_train, y_train)\n",
    "\n",
    "            ## Predict on test set and save the performance results\n",
    "            prediction = classifier.predict(X_test)\n",
    "            report = metrics.classification_report(y_test, prediction)\n",
    "            accuracy = metrics.accuracy_score(y_test, prediction)\n",
    "            \n",
    "            \n",
    "            with open('../results/classification_reports.txt', 'a') as f:\n",
    "                f.write(f\"Classification report for {classifier} trained on {train_file} and tested on {test_file}:\\n\\n\"\n",
    "                f\"{report}\\n\")\n",
    "                \n",
    "            with open('../results/accuracy_results.csv', 'a', newline='') as f:\n",
    "                writer = csv.writer(f)\n",
    "                writer.writerow([train_file, test_file, accuracy])\n",
    "                \n",
    "print(\"All predictions were executed successfully!\")"
   ]
  },
  {
   "cell_type": "code",
   "execution_count": null,
   "id": "e49ca44e",
   "metadata": {},
   "outputs": [],
   "source": []
  }
 ],
 "metadata": {
  "kernelspec": {
   "display_name": "Python 3 (ipykernel)",
   "language": "python",
   "name": "python3"
  },
  "language_info": {
   "codemirror_mode": {
    "name": "ipython",
    "version": 3
   },
   "file_extension": ".py",
   "mimetype": "text/x-python",
   "name": "python",
   "nbconvert_exporter": "python",
   "pygments_lexer": "ipython3",
   "version": "3.10.2"
  }
 },
 "nbformat": 4,
 "nbformat_minor": 5
}
