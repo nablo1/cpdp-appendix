{
 "cells": [
  {
   "cell_type": "markdown",
   "id": "b1355b3c",
   "metadata": {},
   "source": [
    "### Import required modules"
   ]
  },
  {
   "cell_type": "code",
   "execution_count": 39,
   "id": "a7e9cb69",
   "metadata": {
    "scrolled": true
   },
   "outputs": [],
   "source": [
    "import pandas as pd \n",
    "import numpy as np\n",
    "import matplotlib.pyplot as plt \n",
    "from sklearn.model_selection import train_test_split\n",
    "from sklearn import metrics\n",
    "from sklearn.metrics import confusion_matrix\n",
    "from sklearn.ensemble import RandomForestClassifier\n",
    "from sklearn.naive_bayes import GaussianNB\n",
    "from sklearn import tree\n",
    "from sklearn.neighbors import KNeighborsClassifier\n",
    "from sklearn.linear_model import LogisticRegression\n",
    "from sklearn.neural_network import MLPClassifier\n",
    "from sklearn import svm\n",
    "import ntpath"
   ]
  },
  {
   "cell_type": "markdown",
   "id": "338c0197",
   "metadata": {},
   "source": [
    "### Load datasets and store them in dataframes"
   ]
  },
  {
   "cell_type": "code",
   "execution_count": 63,
   "id": "a745a223",
   "metadata": {},
   "outputs": [],
   "source": [
    "train_path = 'ENTER PATH TO TRAIN FILE HERE'\n",
    "test_path = 'ENTER PATH TO TEST FILE HERE'"
   ]
  },
  {
   "cell_type": "code",
   "execution_count": 41,
   "id": "db59befc",
   "metadata": {},
   "outputs": [],
   "source": [
    "train_file = ntpath.basename(train_path)\n",
    "test_file = ntpath.basename(test_path)"
   ]
  },
  {
   "cell_type": "code",
   "execution_count": 42,
   "id": "d1b27db2",
   "metadata": {},
   "outputs": [],
   "source": [
    "train_df = pd.read_csv(train_path, sep=',')\n",
    "test_df = pd.read_csv(test_path, sep=',')"
   ]
  },
  {
   "cell_type": "markdown",
   "id": "e1968c96",
   "metadata": {},
   "source": [
    "### Drop unused columns from the dataframes"
   ]
  },
  {
   "cell_type": "code",
   "execution_count": 43,
   "id": "5fb380ff",
   "metadata": {},
   "outputs": [
    {
     "name": "stderr",
     "output_type": "stream",
     "text": [
      "C:\\Users\\nablo\\AppData\\Local\\Temp\\ipykernel_7984\\3250665714.py:1: FutureWarning: In a future version of pandas all arguments of DataFrame.drop except for the argument 'labels' will be keyword-only.\n",
      "  train_df = train_df.drop(\"javafile\", 1)\n",
      "C:\\Users\\nablo\\AppData\\Local\\Temp\\ipykernel_7984\\3250665714.py:2: FutureWarning: In a future version of pandas all arguments of DataFrame.drop except for the argument 'labels' will be keyword-only.\n",
      "  train_df = train_df.drop(\"classfile\", 1)\n",
      "C:\\Users\\nablo\\AppData\\Local\\Temp\\ipykernel_7984\\3250665714.py:4: FutureWarning: In a future version of pandas all arguments of DataFrame.drop except for the argument 'labels' will be keyword-only.\n",
      "  test_df = test_df.drop(\"javafile\", 1)\n",
      "C:\\Users\\nablo\\AppData\\Local\\Temp\\ipykernel_7984\\3250665714.py:5: FutureWarning: In a future version of pandas all arguments of DataFrame.drop except for the argument 'labels' will be keyword-only.\n",
      "  test_df = test_df.drop(\"classfile\", 1)\n"
     ]
    }
   ],
   "source": [
    "train_df = train_df.drop(\"javafile\", 1)\n",
    "train_df = train_df.drop(\"classfile\", 1)\n",
    "\n",
    "test_df = test_df.drop(\"javafile\", 1)\n",
    "test_df = test_df.drop(\"classfile\", 1)"
   ]
  },
  {
   "cell_type": "markdown",
   "id": "29ab6cfd",
   "metadata": {},
   "source": [
    "### Print stuff for visual testing"
   ]
  },
  {
   "cell_type": "code",
   "execution_count": 44,
   "id": "b77dc4d7",
   "metadata": {},
   "outputs": [
    {
     "data": {
      "text/html": [
       "<div>\n",
       "<style scoped>\n",
       "    .dataframe tbody tr th:only-of-type {\n",
       "        vertical-align: middle;\n",
       "    }\n",
       "\n",
       "    .dataframe tbody tr th {\n",
       "        vertical-align: top;\n",
       "    }\n",
       "\n",
       "    .dataframe thead th {\n",
       "        text-align: right;\n",
       "    }\n",
       "</style>\n",
       "<table border=\"1\" class=\"dataframe\">\n",
       "  <thead>\n",
       "    <tr style=\"text-align: right;\">\n",
       "      <th></th>\n",
       "      <th>WMC</th>\n",
       "      <th>CBO</th>\n",
       "      <th>RFC</th>\n",
       "      <th>LCOM</th>\n",
       "      <th>Ca</th>\n",
       "      <th>Ce</th>\n",
       "      <th>NPM</th>\n",
       "      <th>LCOM3</th>\n",
       "      <th>LCO</th>\n",
       "      <th>DAM</th>\n",
       "      <th>MOA</th>\n",
       "      <th>MFA</th>\n",
       "      <th>CAM</th>\n",
       "      <th>IC</th>\n",
       "      <th>CBM</th>\n",
       "      <th>AMC</th>\n",
       "      <th>bug_prone</th>\n",
       "    </tr>\n",
       "  </thead>\n",
       "  <tbody>\n",
       "    <tr>\n",
       "      <th>0</th>\n",
       "      <td>3</td>\n",
       "      <td>4</td>\n",
       "      <td>6</td>\n",
       "      <td>3</td>\n",
       "      <td>0</td>\n",
       "      <td>4</td>\n",
       "      <td>2</td>\n",
       "      <td>2.0</td>\n",
       "      <td>15</td>\n",
       "      <td>0.0</td>\n",
       "      <td>0</td>\n",
       "      <td>0.0</td>\n",
       "      <td>0.5833</td>\n",
       "      <td>0</td>\n",
       "      <td>0</td>\n",
       "      <td>4.0000</td>\n",
       "      <td>False</td>\n",
       "    </tr>\n",
       "    <tr>\n",
       "      <th>1</th>\n",
       "      <td>3</td>\n",
       "      <td>2</td>\n",
       "      <td>4</td>\n",
       "      <td>3</td>\n",
       "      <td>0</td>\n",
       "      <td>2</td>\n",
       "      <td>2</td>\n",
       "      <td>2.0</td>\n",
       "      <td>8</td>\n",
       "      <td>0.0</td>\n",
       "      <td>0</td>\n",
       "      <td>0.0</td>\n",
       "      <td>0.6667</td>\n",
       "      <td>0</td>\n",
       "      <td>0</td>\n",
       "      <td>1.6667</td>\n",
       "      <td>False</td>\n",
       "    </tr>\n",
       "    <tr>\n",
       "      <th>2</th>\n",
       "      <td>9</td>\n",
       "      <td>16</td>\n",
       "      <td>34</td>\n",
       "      <td>36</td>\n",
       "      <td>0</td>\n",
       "      <td>16</td>\n",
       "      <td>8</td>\n",
       "      <td>2.0</td>\n",
       "      <td>233</td>\n",
       "      <td>0.0</td>\n",
       "      <td>0</td>\n",
       "      <td>0.0</td>\n",
       "      <td>0.3333</td>\n",
       "      <td>0</td>\n",
       "      <td>0</td>\n",
       "      <td>24.8889</td>\n",
       "      <td>False</td>\n",
       "    </tr>\n",
       "    <tr>\n",
       "      <th>3</th>\n",
       "      <td>1</td>\n",
       "      <td>0</td>\n",
       "      <td>2</td>\n",
       "      <td>0</td>\n",
       "      <td>0</td>\n",
       "      <td>0</td>\n",
       "      <td>1</td>\n",
       "      <td>2.0</td>\n",
       "      <td>4</td>\n",
       "      <td>0.0</td>\n",
       "      <td>0</td>\n",
       "      <td>0.0</td>\n",
       "      <td>1.0000</td>\n",
       "      <td>0</td>\n",
       "      <td>0</td>\n",
       "      <td>3.0000</td>\n",
       "      <td>False</td>\n",
       "    </tr>\n",
       "    <tr>\n",
       "      <th>4</th>\n",
       "      <td>3</td>\n",
       "      <td>3</td>\n",
       "      <td>7</td>\n",
       "      <td>3</td>\n",
       "      <td>0</td>\n",
       "      <td>3</td>\n",
       "      <td>2</td>\n",
       "      <td>2.0</td>\n",
       "      <td>15</td>\n",
       "      <td>0.0</td>\n",
       "      <td>0</td>\n",
       "      <td>0.0</td>\n",
       "      <td>0.6667</td>\n",
       "      <td>0</td>\n",
       "      <td>0</td>\n",
       "      <td>4.0000</td>\n",
       "      <td>True</td>\n",
       "    </tr>\n",
       "  </tbody>\n",
       "</table>\n",
       "</div>"
      ],
      "text/plain": [
       "   WMC  CBO  RFC  LCOM  Ca  Ce  NPM  LCOM3  LCO  DAM  MOA  MFA     CAM  IC  \\\n",
       "0    3    4    6     3   0   4    2    2.0   15  0.0    0  0.0  0.5833   0   \n",
       "1    3    2    4     3   0   2    2    2.0    8  0.0    0  0.0  0.6667   0   \n",
       "2    9   16   34    36   0  16    8    2.0  233  0.0    0  0.0  0.3333   0   \n",
       "3    1    0    2     0   0   0    1    2.0    4  0.0    0  0.0  1.0000   0   \n",
       "4    3    3    7     3   0   3    2    2.0   15  0.0    0  0.0  0.6667   0   \n",
       "\n",
       "   CBM      AMC  bug_prone  \n",
       "0    0   4.0000      False  \n",
       "1    0   1.6667      False  \n",
       "2    0  24.8889      False  \n",
       "3    0   3.0000      False  \n",
       "4    0   4.0000       True  "
      ]
     },
     "execution_count": 44,
     "metadata": {},
     "output_type": "execute_result"
    }
   ],
   "source": [
    "train_df.head()"
   ]
  },
  {
   "cell_type": "code",
   "execution_count": 45,
   "id": "dfcdb839",
   "metadata": {},
   "outputs": [
    {
     "data": {
      "text/plain": [
       "(956, 17)"
      ]
     },
     "execution_count": 45,
     "metadata": {},
     "output_type": "execute_result"
    }
   ],
   "source": [
    "train_df.shape"
   ]
  },
  {
   "cell_type": "code",
   "execution_count": 46,
   "id": "ad9de42c",
   "metadata": {
    "scrolled": true
   },
   "outputs": [
    {
     "data": {
      "text/html": [
       "<div>\n",
       "<style scoped>\n",
       "    .dataframe tbody tr th:only-of-type {\n",
       "        vertical-align: middle;\n",
       "    }\n",
       "\n",
       "    .dataframe tbody tr th {\n",
       "        vertical-align: top;\n",
       "    }\n",
       "\n",
       "    .dataframe thead th {\n",
       "        text-align: right;\n",
       "    }\n",
       "</style>\n",
       "<table border=\"1\" class=\"dataframe\">\n",
       "  <thead>\n",
       "    <tr style=\"text-align: right;\">\n",
       "      <th></th>\n",
       "      <th>WMC</th>\n",
       "      <th>CBO</th>\n",
       "      <th>RFC</th>\n",
       "      <th>LCOM</th>\n",
       "      <th>Ca</th>\n",
       "      <th>Ce</th>\n",
       "      <th>NPM</th>\n",
       "      <th>LCOM3</th>\n",
       "      <th>LCO</th>\n",
       "      <th>DAM</th>\n",
       "      <th>MOA</th>\n",
       "      <th>MFA</th>\n",
       "      <th>CAM</th>\n",
       "      <th>IC</th>\n",
       "      <th>CBM</th>\n",
       "      <th>AMC</th>\n",
       "      <th>bug_prone</th>\n",
       "    </tr>\n",
       "  </thead>\n",
       "  <tbody>\n",
       "    <tr>\n",
       "      <th>0</th>\n",
       "      <td>4</td>\n",
       "      <td>8</td>\n",
       "      <td>14</td>\n",
       "      <td>6</td>\n",
       "      <td>0</td>\n",
       "      <td>8</td>\n",
       "      <td>3</td>\n",
       "      <td>2.0</td>\n",
       "      <td>86</td>\n",
       "      <td>0.0</td>\n",
       "      <td>0</td>\n",
       "      <td>0.0</td>\n",
       "      <td>0.4375</td>\n",
       "      <td>0</td>\n",
       "      <td>0</td>\n",
       "      <td>20.5</td>\n",
       "      <td>True</td>\n",
       "    </tr>\n",
       "    <tr>\n",
       "      <th>1</th>\n",
       "      <td>5</td>\n",
       "      <td>22</td>\n",
       "      <td>39</td>\n",
       "      <td>8</td>\n",
       "      <td>0</td>\n",
       "      <td>22</td>\n",
       "      <td>4</td>\n",
       "      <td>0.5</td>\n",
       "      <td>97</td>\n",
       "      <td>1.0</td>\n",
       "      <td>1</td>\n",
       "      <td>0.0</td>\n",
       "      <td>0.5000</td>\n",
       "      <td>0</td>\n",
       "      <td>0</td>\n",
       "      <td>18.2</td>\n",
       "      <td>True</td>\n",
       "    </tr>\n",
       "    <tr>\n",
       "      <th>2</th>\n",
       "      <td>2</td>\n",
       "      <td>10</td>\n",
       "      <td>12</td>\n",
       "      <td>1</td>\n",
       "      <td>0</td>\n",
       "      <td>10</td>\n",
       "      <td>1</td>\n",
       "      <td>2.0</td>\n",
       "      <td>39</td>\n",
       "      <td>0.0</td>\n",
       "      <td>0</td>\n",
       "      <td>0.0</td>\n",
       "      <td>0.7500</td>\n",
       "      <td>0</td>\n",
       "      <td>0</td>\n",
       "      <td>18.0</td>\n",
       "      <td>True</td>\n",
       "    </tr>\n",
       "    <tr>\n",
       "      <th>3</th>\n",
       "      <td>3</td>\n",
       "      <td>6</td>\n",
       "      <td>12</td>\n",
       "      <td>1</td>\n",
       "      <td>0</td>\n",
       "      <td>6</td>\n",
       "      <td>2</td>\n",
       "      <td>0.0</td>\n",
       "      <td>70</td>\n",
       "      <td>0.0</td>\n",
       "      <td>0</td>\n",
       "      <td>0.0</td>\n",
       "      <td>0.5333</td>\n",
       "      <td>0</td>\n",
       "      <td>0</td>\n",
       "      <td>22.0</td>\n",
       "      <td>True</td>\n",
       "    </tr>\n",
       "    <tr>\n",
       "      <th>4</th>\n",
       "      <td>1</td>\n",
       "      <td>2</td>\n",
       "      <td>5</td>\n",
       "      <td>0</td>\n",
       "      <td>0</td>\n",
       "      <td>2</td>\n",
       "      <td>0</td>\n",
       "      <td>2.0</td>\n",
       "      <td>54</td>\n",
       "      <td>0.0</td>\n",
       "      <td>0</td>\n",
       "      <td>0.0</td>\n",
       "      <td>0.0000</td>\n",
       "      <td>0</td>\n",
       "      <td>0</td>\n",
       "      <td>51.0</td>\n",
       "      <td>True</td>\n",
       "    </tr>\n",
       "  </tbody>\n",
       "</table>\n",
       "</div>"
      ],
      "text/plain": [
       "   WMC  CBO  RFC  LCOM  Ca  Ce  NPM  LCOM3  LCO  DAM  MOA  MFA     CAM  IC  \\\n",
       "0    4    8   14     6   0   8    3    2.0   86  0.0    0  0.0  0.4375   0   \n",
       "1    5   22   39     8   0  22    4    0.5   97  1.0    1  0.0  0.5000   0   \n",
       "2    2   10   12     1   0  10    1    2.0   39  0.0    0  0.0  0.7500   0   \n",
       "3    3    6   12     1   0   6    2    0.0   70  0.0    0  0.0  0.5333   0   \n",
       "4    1    2    5     0   0   2    0    2.0   54  0.0    0  0.0  0.0000   0   \n",
       "\n",
       "   CBM   AMC  bug_prone  \n",
       "0    0  20.5       True  \n",
       "1    0  18.2       True  \n",
       "2    0  18.0       True  \n",
       "3    0  22.0       True  \n",
       "4    0  51.0       True  "
      ]
     },
     "execution_count": 46,
     "metadata": {},
     "output_type": "execute_result"
    }
   ],
   "source": [
    "test_df.head()"
   ]
  },
  {
   "cell_type": "code",
   "execution_count": 47,
   "id": "f4bba98d",
   "metadata": {},
   "outputs": [
    {
     "data": {
      "text/plain": [
       "(560, 17)"
      ]
     },
     "execution_count": 47,
     "metadata": {},
     "output_type": "execute_result"
    }
   ],
   "source": [
    "test_df.shape"
   ]
  },
  {
   "cell_type": "markdown",
   "id": "bdcb8214",
   "metadata": {},
   "source": [
    "### Convert into NumPy arrays"
   ]
  },
  {
   "cell_type": "code",
   "execution_count": 48,
   "id": "a883aff7",
   "metadata": {},
   "outputs": [],
   "source": [
    "train_arr = np.array(train_df, dtype = 'float32')\n",
    "test_arr = np.array(test_df, dtype = 'float32')"
   ]
  },
  {
   "cell_type": "markdown",
   "id": "ee26afba",
   "metadata": {},
   "source": [
    "### Split data into metrics (X) ang labels (Y)"
   ]
  },
  {
   "cell_type": "code",
   "execution_count": 49,
   "id": "d4de68e7",
   "metadata": {},
   "outputs": [],
   "source": [
    "X_train = train_arr[:,0:16]\n",
    "y_train = train_arr[:,16]\n",
    "\n",
    "X_test = test_arr[:,0:16]\n",
    "y_test = test_arr[:,16]"
   ]
  },
  {
   "cell_type": "markdown",
   "id": "274db2df",
   "metadata": {},
   "source": [
    "### Split the training dataset into 80% for training and 20% for validation"
   ]
  },
  {
   "cell_type": "code",
   "execution_count": 50,
   "id": "d7358744",
   "metadata": {},
   "outputs": [],
   "source": [
    "X_train, X_val, y_train, y_val = train_test_split(X_train, y_train, test_size = 0.2, random_state = 0)"
   ]
  },
  {
   "cell_type": "code",
   "execution_count": 51,
   "id": "a3b8cd98",
   "metadata": {},
   "outputs": [
    {
     "data": {
      "text/plain": [
       "((764, 16), (764,), (192, 16), (192,))"
      ]
     },
     "execution_count": 51,
     "metadata": {},
     "output_type": "execute_result"
    }
   ],
   "source": [
    "X_train.shape, y_train.shape, X_val.shape, y_val.shape"
   ]
  },
  {
   "cell_type": "code",
   "execution_count": null,
   "id": "07a29b6f",
   "metadata": {},
   "outputs": [],
   "source": []
  },
  {
   "cell_type": "markdown",
   "id": "78f3343c",
   "metadata": {},
   "source": [
    "### List of classifiers to be used"
   ]
  },
  {
   "cell_type": "code",
   "execution_count": 52,
   "id": "c37aaf09",
   "metadata": {},
   "outputs": [],
   "source": [
    "rf = RandomForestClassifier(n_estimators=100)\n",
    "gnb = GaussianNB() # Gaussian Naive Bayes\n",
    "dt = tree.DecisionTreeClassifier()\n",
    "neigh = KNeighborsClassifier(n_neighbors=3)\n",
    "lr = LogisticRegression(random_state=0)\n",
    "mlp = MLPClassifier(solver='lbfgs', alpha=1e-5, hidden_layer_sizes=(5, 2), random_state=1) # Multi-layer Perceptron\n",
    "svm = svm.SVC() # Support Vector Machines"
   ]
  },
  {
   "cell_type": "markdown",
   "id": "73ce0422",
   "metadata": {},
   "source": [
    "### Initialize and run classifier"
   ]
  },
  {
   "cell_type": "code",
   "execution_count": 53,
   "id": "4a96b0b5",
   "metadata": {},
   "outputs": [],
   "source": [
    "classifier = rf  # CHOOSE FROM THE LIST ABOVE"
   ]
  },
  {
   "cell_type": "code",
   "execution_count": 54,
   "id": "92aacfa2",
   "metadata": {},
   "outputs": [
    {
     "data": {
      "text/plain": [
       "RandomForestClassifier()"
      ]
     },
     "execution_count": 54,
     "metadata": {},
     "output_type": "execute_result"
    }
   ],
   "source": [
    "classifier.fit(X_train, y_train)"
   ]
  },
  {
   "cell_type": "markdown",
   "id": "46f5f169",
   "metadata": {},
   "source": [
    "### Evaluate on validation set"
   ]
  },
  {
   "cell_type": "code",
   "execution_count": 55,
   "id": "05f00c24",
   "metadata": {},
   "outputs": [
    {
     "data": {
      "text/plain": [
       "0.765625"
      ]
     },
     "execution_count": 55,
     "metadata": {},
     "output_type": "execute_result"
    }
   ],
   "source": [
    "classifier.score(X_val, y_val)"
   ]
  },
  {
   "cell_type": "markdown",
   "id": "1f8101be",
   "metadata": {},
   "source": [
    "### Predict on test set and print the performance results"
   ]
  },
  {
   "cell_type": "code",
   "execution_count": 56,
   "id": "97db05b8",
   "metadata": {},
   "outputs": [],
   "source": [
    "prediction = classifier.predict(X_test) "
   ]
  },
  {
   "cell_type": "code",
   "execution_count": 64,
   "id": "78f09f64",
   "metadata": {},
   "outputs": [
    {
     "name": "stdout",
     "output_type": "stream",
     "text": [
      "Classification report for RandomForestClassifier() traind on applozic.csv and tested on antennapod.csv:\n",
      "\n",
      "              precision    recall  f1-score   support\n",
      "\n",
      "         0.0       0.54      0.83      0.65       262\n",
      "         1.0       0.72      0.38      0.50       298\n",
      "\n",
      "    accuracy                           0.59       560\n",
      "   macro avg       0.63      0.60      0.57       560\n",
      "weighted avg       0.63      0.59      0.57       560\n",
      "\n",
      "\n"
     ]
    }
   ],
   "source": [
    "print(\n",
    "    f\"Classification report for {classifier} traind on {train_file} and tested on {test_file}:\\n\\n\"\n",
    "    f\"{metrics.classification_report(y_test, prediction)}\\n\"\n",
    ")"
   ]
  },
  {
   "cell_type": "code",
   "execution_count": 62,
   "id": "cd257722",
   "metadata": {},
   "outputs": [],
   "source": [
    "with open('results.txt', 'a') as f:\n",
    "    f.write(f\"Classification report for {classifier} traind on {train_file} and tested on {test_file}:\\n\\n\"\n",
    "    f\"{metrics.classification_report(y_test, prediction)}\\n\"\n",
    ")"
   ]
  },
  {
   "cell_type": "code",
   "execution_count": null,
   "id": "e2efeda8",
   "metadata": {},
   "outputs": [],
   "source": []
  }
 ],
 "metadata": {
  "kernelspec": {
   "display_name": "Python 3 (ipykernel)",
   "language": "python",
   "name": "python3"
  },
  "language_info": {
   "codemirror_mode": {
    "name": "ipython",
    "version": 3
   },
   "file_extension": ".py",
   "mimetype": "text/x-python",
   "name": "python",
   "nbconvert_exporter": "python",
   "pygments_lexer": "ipython3",
   "version": "3.10.2"
  }
 },
 "nbformat": 4,
 "nbformat_minor": 5
}
